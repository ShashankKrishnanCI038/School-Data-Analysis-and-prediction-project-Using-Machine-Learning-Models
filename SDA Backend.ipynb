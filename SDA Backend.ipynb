{
 "cells": [
  {
   "cell_type": "markdown",
   "id": "4750114b",
   "metadata": {},
   "source": [
    "# School Data Analysis"
   ]
  },
  {
   "cell_type": "code",
   "execution_count": null,
   "id": "5fce2a6f",
   "metadata": {},
   "outputs": [],
   "source": [
    "import pandas as pd\n",
    "import numpy as np"
   ]
  },
  {
   "cell_type": "code",
   "execution_count": null,
   "id": "5eb791e9",
   "metadata": {},
   "outputs": [],
   "source": [
    "data = pd.read_csv('data.csv')\n",
    "data"
   ]
  },
  {
   "cell_type": "code",
   "execution_count": null,
   "id": "b7751c70",
   "metadata": {},
   "outputs": [],
   "source": [
    "print('Number of rows and columns: ', data.shape)"
   ]
  },
  {
   "cell_type": "code",
   "execution_count": null,
   "id": "4ab75f16",
   "metadata": {},
   "outputs": [],
   "source": [
    "print('columns are: ', list(data.columns), end=',')"
   ]
  },
  {
   "cell_type": "code",
   "execution_count": null,
   "id": "80c7bcc4",
   "metadata": {},
   "outputs": [],
   "source": [
    "print('data types are: \\n', data.dtypes)"
   ]
  },
  {
   "cell_type": "code",
   "execution_count": null,
   "id": "155b0e33",
   "metadata": {},
   "outputs": [],
   "source": [
    "data.head()"
   ]
  },
  {
   "cell_type": "code",
   "execution_count": null,
   "id": "51a5b33a",
   "metadata": {},
   "outputs": [],
   "source": [
    "data.tail()"
   ]
  },
  {
   "cell_type": "markdown",
   "id": "c2aff2b8",
   "metadata": {},
   "source": [
    "### Details of dataset"
   ]
  },
  {
   "cell_type": "markdown",
   "id": "f8a995b8",
   "metadata": {},
   "source": [
    "\n",
    " * **province_id**\tid of the school province\n",
    " \n",
    " * **province_name**\tprovince name\n",
    " \n",
    " * **city_id**\tid of the school city (can also be kabupaten in Indonesia)\n",
    " \n",
    " * **city_name**\tcity (kabupaten) name\n",
    " \n",
    " * **disctrict_id**\tid of the school district (kecamatan in Indonesia)\n",
    " \n",
    " * **district_name**\tdistrict (kecamatan) name\n",
    " \n",
    " * **npsn**\tunique school id\n",
    " \n",
    " * **school_name**\tname of the school. \n",
    "     - The prefix (e.g. SD,SMP,SMA,SMK) described in stage feature\n",
    "     \n",
    "  * **stage**\tEducational stage of school. \n",
    "     - SD = Elementary Schol, \n",
    "     - SMP = Junior High Scool, \n",
    "     - SMA/SMK = Senior High School. \n",
    "         SMA and SMK differentiate from how one (SMK) is mainly focus on develping student practical skill status 2 main division based on who develop the school.\n",
    "    \n",
    "    - N stands for \"Negeri\" (public school), \n",
    "    - S stands for \"Swasta\" (private school)\n",
    "\n",
    " * **street_name**\tstreet where the school is located\n",
    " \n",
    " * **lat**\tgeolocation latitude coordinate of the school. Range from -11 to 6\n",
    " \n",
    " * **long**\tgeolocation longitude coordinate of the school. Range from 95 to 141"
   ]
  },
  {
   "cell_type": "markdown",
   "id": "b4bbc9fd",
   "metadata": {},
   "source": [
    "## description of the data"
   ]
  },
  {
   "cell_type": "code",
   "execution_count": null,
   "id": "ff073bf2",
   "metadata": {},
   "outputs": [],
   "source": [
    "data.describe()"
   ]
  },
  {
   "cell_type": "markdown",
   "id": "f6edeefd",
   "metadata": {},
   "source": [
    "## Renaming column "
   ]
  },
  {
   "cell_type": "code",
   "execution_count": null,
   "id": "cfb7c5d1",
   "metadata": {},
   "outputs": [],
   "source": [
    "data = data.rename(columns={'npsn':'school_id'})\n",
    "data"
   ]
  },
  {
   "cell_type": "markdown",
   "id": "931f72f3",
   "metadata": {},
   "source": [
    "## check whether dataset contains null values or not"
   ]
  },
  {
   "cell_type": "code",
   "execution_count": null,
   "id": "f054b3d8",
   "metadata": {},
   "outputs": [],
   "source": [
    "data.isnull().sum()"
   ]
  },
  {
   "cell_type": "markdown",
   "id": "ef766949",
   "metadata": {},
   "source": [
    "## check whether dataset contains duplicate values or not"
   ]
  },
  {
   "cell_type": "code",
   "execution_count": null,
   "id": "25d968aa",
   "metadata": {},
   "outputs": [],
   "source": [
    "data.duplicated().sum() #no duplicated values"
   ]
  },
  {
   "cell_type": "markdown",
   "id": "45002a84",
   "metadata": {},
   "source": [
    "## Drop all the null values in the dataset2"
   ]
  },
  {
   "cell_type": "code",
   "execution_count": null,
   "id": "4215aad3",
   "metadata": {},
   "outputs": [],
   "source": [
    "data.drop_duplicates(inplace=True)"
   ]
  },
  {
   "cell_type": "code",
   "execution_count": null,
   "id": "dd6e9d28",
   "metadata": {},
   "outputs": [],
   "source": [
    "data.dropna(inplace=True)"
   ]
  },
  {
   "cell_type": "code",
   "execution_count": null,
   "id": "44e68e10",
   "metadata": {},
   "outputs": [],
   "source": [
    "data.isnull().sum()"
   ]
  },
  {
   "cell_type": "code",
   "execution_count": null,
   "id": "6d025176",
   "metadata": {},
   "outputs": [],
   "source": [
    "data.shape"
   ]
  },
  {
   "cell_type": "code",
   "execution_count": null,
   "id": "7ad0954c",
   "metadata": {},
   "outputs": [],
   "source": [
    "data.info()"
   ]
  },
  {
   "cell_type": "code",
   "execution_count": null,
   "id": "c32a7f05",
   "metadata": {},
   "outputs": [],
   "source": [
    "data['school_id'] = data['school_id'].astype('int64')\n",
    "data['district_id'] = data['district_id'].astype('int64')\n",
    "data['city_id'] = data['city_id'].astype('int64')"
   ]
  },
  {
   "cell_type": "code",
   "execution_count": null,
   "id": "bdb927d6",
   "metadata": {},
   "outputs": [],
   "source": [
    "data.shape"
   ]
  },
  {
   "cell_type": "code",
   "execution_count": null,
   "id": "57cab0e8",
   "metadata": {},
   "outputs": [],
   "source": [
    "data.info()"
   ]
  },
  {
   "cell_type": "markdown",
   "id": "1a5666af",
   "metadata": {},
   "source": [
    "## save the cleaned csv file2"
   ]
  },
  {
   "cell_type": "code",
   "execution_count": null,
   "id": "e1b277ec",
   "metadata": {},
   "outputs": [],
   "source": [
    "data.to_csv(r\"C:\\Users\\SHASHANK K\\PycharmProjects\\Project Files\\School Data Analysis\\cleaned.csv\")"
   ]
  },
  {
   "cell_type": "markdown",
   "id": "1f8e1fa3",
   "metadata": {},
   "source": [
    "# Data Visualization"
   ]
  },
  {
   "cell_type": "markdown",
   "id": "14917b8c",
   "metadata": {},
   "source": [
    "## read the cleaned csv"
   ]
  },
  {
   "cell_type": "code",
   "execution_count": null,
   "id": "4cd07801",
   "metadata": {},
   "outputs": [],
   "source": [
    "data = pd.read_csv(r\"C:\\Users\\SHASHANK K\\PycharmProjects\\Project Files\\School Data Analysis\\cleaned.csv\")"
   ]
  },
  {
   "cell_type": "code",
   "execution_count": null,
   "id": "bd73ef15",
   "metadata": {},
   "outputs": [],
   "source": [
    "import matplotlib.pyplot as plt\n",
    "import seaborn as sns"
   ]
  },
  {
   "cell_type": "markdown",
   "id": "c8b4265b",
   "metadata": {},
   "source": [
    "## check data empty values through colormap"
   ]
  },
  {
   "cell_type": "code",
   "execution_count": null,
   "id": "20f07cf2",
   "metadata": {},
   "outputs": [],
   "source": [
    "sns.heatmap(data.isnull(), cmap='coolwarm')"
   ]
  },
  {
   "cell_type": "markdown",
   "id": "cf2b83b8",
   "metadata": {},
   "source": [
    "        The map conveys that there are 0 null values in the dataset via grey color (0th color in color index)"
   ]
  },
  {
   "cell_type": "markdown",
   "id": "db6c1ebc",
   "metadata": {},
   "source": [
    "# Graph Plotting "
   ]
  },
  {
   "cell_type": "markdown",
   "id": "997475e8",
   "metadata": {},
   "source": [
    "## Number of schools in each province"
   ]
  },
  {
   "cell_type": "code",
   "execution_count": null,
   "id": "9be3af8d",
   "metadata": {},
   "outputs": [],
   "source": [
    "plt.title('Number of schools in each province')\n",
    "\n",
    "ax = sns.countplot(x = 'province_name', data = data[:4000])\n",
    "\n",
    "for bars in ax.containers: #display labels in plot with a numbers\n",
    "    ax.bar_label(bars)\n",
    "    \n",
    "plt.show()"
   ]
  },
  {
   "cell_type": "markdown",
   "id": "f7cd9360",
   "metadata": {},
   "source": [
    "## Number of schools in each city"
   ]
  },
  {
   "cell_type": "code",
   "execution_count": null,
   "id": "dcdc0ba6",
   "metadata": {},
   "outputs": [],
   "source": [
    "plt.title(\"Number of schools in each city\")\n",
    "plt.xlabel('Count')\n",
    "plt.ylabel('City name')\n",
    "\n",
    "bx = sns.countplot(x = 'city_name', data = data[:200])\n",
    "\n",
    "for bars in bx.containers: #display labels in plot with a numbers\n",
    "    bx.bar_label(bars)"
   ]
  },
  {
   "cell_type": "markdown",
   "id": "2b4d0b04",
   "metadata": {},
   "source": [
    "## Number of type of schools in each district"
   ]
  },
  {
   "cell_type": "code",
   "execution_count": null,
   "id": "0b957482",
   "metadata": {},
   "outputs": [],
   "source": [
    "plt.title('number of type of schools in each district')\n",
    "\n",
    "cx = sns.lineplot(data = data[50:100], x = 'district_id', y = 'status')\n",
    "\n",
    "for bars in cx.containers:\n",
    "    cx.bar_label(bars)\n",
    "\n",
    "plt.show()"
   ]
  },
  {
   "cell_type": "code",
   "execution_count": null,
   "id": "b1ad3735",
   "metadata": {},
   "outputs": [],
   "source": [
    "plt.title('Number of type of schools in each district')\n",
    "\n",
    "\n",
    "\n",
    "dx = sns.barplot(data=data[:5000], x = 'province_id', y = 'city_id') #only numeric values\n",
    "for bars in dx.containers:\n",
    "    dx.bar_label(bars)\n",
    "    \n",
    "plt.figure(figsize=(8, 3))\n",
    "plt.show()"
   ]
  },
  {
   "cell_type": "code",
   "execution_count": null,
   "id": "71965479",
   "metadata": {},
   "outputs": [],
   "source": [
    "data.info()"
   ]
  },
  {
   "cell_type": "markdown",
   "id": "4792b2d1",
   "metadata": {},
   "source": [
    "# Machine Learning Analysis"
   ]
  },
  {
   "cell_type": "code",
   "execution_count": null,
   "id": "8a3d7df4",
   "metadata": {},
   "outputs": [],
   "source": [
    "data"
   ]
  },
  {
   "cell_type": "markdown",
   "id": "d650783f",
   "metadata": {},
   "source": [
    "## read the cleaned data"
   ]
  },
  {
   "cell_type": "code",
   "execution_count": null,
   "id": "1012371c",
   "metadata": {},
   "outputs": [],
   "source": [
    "df = pd.read_csv(r\"C:\\Users\\SHASHANK K\\PycharmProjects\\Project Files\\School Data Analysis\\cleaned.csv\")"
   ]
  },
  {
   "cell_type": "markdown",
   "id": "b433f54a",
   "metadata": {},
   "source": [
    "## split the cleaned dataset for training and testing"
   ]
  },
  {
   "cell_type": "code",
   "execution_count": null,
   "id": "6ebc7b8e",
   "metadata": {},
   "outputs": [],
   "source": [
    "from sklearn.model_selection import train_test_split"
   ]
  },
  {
   "cell_type": "code",
   "execution_count": null,
   "id": "ae2c18ed",
   "metadata": {},
   "outputs": [],
   "source": [
    "x = df.loc[:200000, ['province_id', 'city_id', 'district_id', 'school_id']]\n",
    "y = df.loc[:200000, ['status']]"
   ]
  },
  {
   "cell_type": "code",
   "execution_count": null,
   "id": "ff23d866",
   "metadata": {},
   "outputs": [],
   "source": [
    "print(x.shape)\n",
    "print(y.shape)"
   ]
  },
  {
   "cell_type": "code",
   "execution_count": null,
   "id": "42b6cebe",
   "metadata": {},
   "outputs": [],
   "source": [
    "xtrain, xtest, ytrain, ytest = train_test_split(x, y, test_size=0.2)"
   ]
  },
  {
   "cell_type": "code",
   "execution_count": null,
   "id": "9e8affc5",
   "metadata": {},
   "outputs": [],
   "source": [
    "print(xtrain.shape)\n",
    "print(xtest.shape)\n",
    "print(ytrain.shape)\n",
    "print(ytest.shape)"
   ]
  },
  {
   "cell_type": "markdown",
   "id": "9b30751a",
   "metadata": {},
   "source": [
    "## Machine Learning Models"
   ]
  },
  {
   "cell_type": "markdown",
   "id": "f361b8bc",
   "metadata": {},
   "source": [
    "   ## Regression Models\n",
    "   \n",
    "        Linear regression\n",
    "        Polynomial regression\n",
    "        ridge regression\n",
    "        lasso regression\n",
    "        Elastic regression\n",
    "\n",
    "   ## classification Models\n",
    "   \n",
    "        logistic regression\n",
    "        decision tree\n",
    "        random forest\n",
    "        SVM\n",
    "        KNN\n",
    "        naive bayes\n",
    "        \n",
    "   ## Regression Models are used for continuous data (int & Float)\n",
    "   ## Classification Models are used for discrete data (only int)\n",
    "        \n",
    " * This problem **classifies** whether school is Nageri or Swastha Hence, **classification** models are used"
   ]
  },
  {
   "cell_type": "code",
   "execution_count": null,
   "id": "2a1c48d4",
   "metadata": {},
   "outputs": [],
   "source": [
    "from sklearn.linear_model import LogisticRegression\n",
    "from sklearn.tree import DecisionTreeClassifier\n",
    "from sklearn.ensemble import RandomForestClassifier\n",
    "from sklearn.svm import SVC\n",
    "from sklearn.neighbors import KNeighborsClassifier\n",
    "from sklearn.naive_bayes import GaussianNB\n",
    "\n",
    "from sklearn.metrics import mean_squared_error, r2_score, precision_score, recall_score, f1_score, confusion_matrix, accuracy_score, classification_report\n",
    "\n",
    "import joblib #to save trained model in low size."
   ]
  },
  {
   "cell_type": "markdown",
   "id": "d32650d1",
   "metadata": {},
   "source": [
    "### Decision tree"
   ]
  },
  {
   "cell_type": "code",
   "execution_count": null,
   "id": "68bae42c",
   "metadata": {},
   "outputs": [],
   "source": [
    "model1 = DecisionTreeClassifier()\n",
    "\n",
    "model1.fit(xtrain, ytrain)\n",
    "\n",
    "ypred1 = model1.predict(xtest)\n",
    "\n",
    "print(f\"Decision tree scores: {round(accuracy_score(ytest, ypred1)*100, 2)}% Accuracy\")\n",
    "\n",
    "joblib.dump(model1, 'Decision Tree Model.pkl')"
   ]
  },
  {
   "cell_type": "code",
   "execution_count": null,
   "id": "a2b89998",
   "metadata": {},
   "outputs": [],
   "source": [
    "model2 = RandomForestClassifier(n_estimators=200)\n",
    "\n",
    "model2.fit(xtrain, ytrain)\n",
    "\n",
    "ypred2 = model2.predict(xtest)\n",
    "\n",
    "print(f\"Random Forest Model scores: {round(accuracy_score(ytest, ypred2)*100, 2)}% Accuracy\")\n",
    "\n",
    "joblib.dump(model2, 'Random Forest Model.pkl')"
   ]
  },
  {
   "cell_type": "code",
   "execution_count": null,
   "id": "74361af1",
   "metadata": {},
   "outputs": [],
   "source": [
    "model3 = SVC()\n",
    "\n",
    "model3.fit(xtrain, ytrain)\n",
    "\n",
    "ypred3 = model3.predict(xtest)\n",
    "\n",
    "print(f\"SVM scores: {round(accuracy_score(ytest, ypred3)*100, 2)}% accuracy\")\n",
    "\n",
    "joblib.dump(model3, 'SVM Model.pkl')"
   ]
  },
  {
   "cell_type": "code",
   "execution_count": null,
   "id": "58aba8dc",
   "metadata": {},
   "outputs": [],
   "source": [
    "model4 = LogisticRegression()\n",
    "\n",
    "model4.fit(xtrain, ytrain)\n",
    "\n",
    "ypred4 = model4.predict(xtest)\n",
    "\n",
    "print(f\"Logistic Regression Model scores: {round(accuracy_score(ytest, ypred4)*100, 2)}% accuracy\")\n",
    "\n",
    "joblib.dump(model4, 'Logistic Regression Model.pkl')"
   ]
  },
  {
   "cell_type": "code",
   "execution_count": null,
   "id": "a7b00f79",
   "metadata": {},
   "outputs": [],
   "source": [
    "model5 = KNeighborsClassifier(n_neighbors=10)\n",
    "\n",
    "model5.fit(xtrain, ytrain)\n",
    "\n",
    "ypred5 = model5.predict(xtest)\n",
    "\n",
    "print(f\"KNN Model scores: {round(accuracy_score(ytest, ypred5)*100, 2)}% accuracy\")\n",
    "\n",
    "joblib.dump(model5, 'KNN Model.pkl')"
   ]
  },
  {
   "cell_type": "code",
   "execution_count": null,
   "id": "93d13414",
   "metadata": {},
   "outputs": [],
   "source": [
    "model6 = GaussianNB()\n",
    "\n",
    "model6.fit(xtrain, ytrain)\n",
    "\n",
    "ypred6 = model6.predict(xtest)\n",
    "\n",
    "print(f\"KNN Model scores: {round(accuracy_score(ytest, ypred6)*100, 2)}% accuracy\")\n",
    "\n",
    "joblib.dump(model6, 'Naive Bayesian Model.pkl')"
   ]
  },
  {
   "cell_type": "markdown",
   "id": "4158eb6e",
   "metadata": {},
   "source": [
    "# Prediction"
   ]
  },
  {
   "cell_type": "code",
   "execution_count": null,
   "id": "29c34786",
   "metadata": {},
   "outputs": [],
   "source": [
    "model = joblib.load(r\"C:\\Users\\SHASHANK K\\PycharmProjects\\Project Files\\School Data Analysis\\ML Models\\Random Forest Model.pkl\")"
   ]
  },
  {
   "cell_type": "code",
   "execution_count": null,
   "id": "21170812",
   "metadata": {},
   "outputs": [],
   "source": [
    "sample = [[12546, 54859, 25648, 21564789]]\n",
    "prediction  = model.predict(sample)\n",
    "print(prediction[0])"
   ]
  },
  {
   "cell_type": "code",
   "execution_count": null,
   "id": "fa6cf920",
   "metadata": {},
   "outputs": [],
   "source": []
  },
  {
   "cell_type": "markdown",
   "id": "7b81f985",
   "metadata": {},
   "source": [
    "# Error Analysis"
   ]
  },
  {
   "cell_type": "markdown",
   "id": "bec0d197",
   "metadata": {},
   "source": [
    "Error Analysis are of below types:\n",
    "\n",
    "    1) r_square error\n",
    "    \n",
    "    2) Precision\n",
    "    \n",
    "    3) recall\n",
    "    \n",
    "    4) F-Score\n",
    "    \n",
    "    5) confusion matrix\n",
    "    \n",
    "    6) classification report\n",
    "    \n",
    "    7) mean square error\n",
    "    \n",
    "    8) accuracy score"
   ]
  },
  {
   "cell_type": "code",
   "execution_count": null,
   "id": "cf19d936",
   "metadata": {},
   "outputs": [],
   "source": [
    "r_squared = r2_score(ytest, ypred1)\n",
    "print(f\"R-squared Error: {r_squared:.2f}\") "
   ]
  },
  {
   "cell_type": "code",
   "execution_count": null,
   "id": "9d4039c6",
   "metadata": {},
   "outputs": [],
   "source": [
    "# 2. Precision\n",
    "precision = precision_score(ytest, ypred1)\n",
    "print(f\"Precision: {precision:.2f}\")"
   ]
  },
  {
   "cell_type": "code",
   "execution_count": null,
   "id": "5ee94a1c",
   "metadata": {},
   "outputs": [],
   "source": [
    "# 3. Recall\n",
    "recall = recall_score(ytest, ypred1)\n",
    "print(f\"Recall: {recall:.2f}\")"
   ]
  },
  {
   "cell_type": "code",
   "execution_count": null,
   "id": "bd92b8a2",
   "metadata": {},
   "outputs": [],
   "source": [
    "# 4. F-Score (F1-Score)\n",
    "f_score = f1_score(ytest, ypred1)\n",
    "print(f\"F-Score (F1-Score): {f_score:.2f}\")"
   ]
  },
  {
   "cell_type": "code",
   "execution_count": null,
   "id": "9e9c8d30",
   "metadata": {},
   "outputs": [],
   "source": [
    "# 5. Confusion Matrix\n",
    "conf_matrix = confusion_matrix(ytest, ypred1)\n",
    "print(f\"Confusion Matrix:\\n{conf_matrix}\")"
   ]
  },
  {
   "cell_type": "code",
   "execution_count": null,
   "id": "5ab9e802",
   "metadata": {},
   "outputs": [],
   "source": [
    "# 6. Classification Report\n",
    "class_report = classification_report(ytest, ypred1)\n",
    "print(f\"Classification Report:\\n{class_report}\")"
   ]
  },
  {
   "cell_type": "code",
   "execution_count": null,
   "id": "42b17ab9",
   "metadata": {},
   "outputs": [],
   "source": [
    "# 7. Mean Squared Error\n",
    "mse = mean_squared_error(ytest, ypred1)\n",
    "print(f\"Mean Squared Error: {mse:.2f}\")"
   ]
  },
  {
   "cell_type": "code",
   "execution_count": null,
   "id": "5687c8c7",
   "metadata": {},
   "outputs": [],
   "source": [
    "# 8. Accuracy Score\n",
    "accuracy = accuracy_score(ytest, ypred1)\n",
    "print(f\"Accuracy Score: {accuracy:.2f}\")"
   ]
  },
  {
   "cell_type": "code",
   "execution_count": null,
   "id": "0d4e74b2",
   "metadata": {},
   "outputs": [],
   "source": []
  }
 ],
 "metadata": {
  "kernelspec": {
   "display_name": "Python 3 (ipykernel)",
   "language": "python",
   "name": "python3"
  },
  "language_info": {
   "codemirror_mode": {
    "name": "ipython",
    "version": 3
   },
   "file_extension": ".py",
   "mimetype": "text/x-python",
   "name": "python",
   "nbconvert_exporter": "python",
   "pygments_lexer": "ipython3",
   "version": "3.8.2"
  }
 },
 "nbformat": 4,
 "nbformat_minor": 5
}
