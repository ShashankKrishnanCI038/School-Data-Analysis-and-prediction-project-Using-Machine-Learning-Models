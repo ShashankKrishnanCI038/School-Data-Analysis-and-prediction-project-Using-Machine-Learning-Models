{
 "cells": [
  {
   "cell_type": "markdown",
   "id": "fb277675",
   "metadata": {},
   "source": [
    "# School Data Analysis Project"
   ]
  },
  {
   "cell_type": "markdown",
   "id": "7f85cc52",
   "metadata": {},
   "source": [
    "#### install the libraries"
   ]
  },
  {
   "cell_type": "code",
   "execution_count": null,
   "id": "8f97eb49",
   "metadata": {},
   "outputs": [],
   "source": [
    "# pip install <library_name>"
   ]
  },
  {
   "cell_type": "markdown",
   "id": "d53fa652",
   "metadata": {},
   "source": [
    "#### import essential libraries"
   ]
  },
  {
   "cell_type": "code",
   "execution_count": 1,
   "id": "f04d684e",
   "metadata": {},
   "outputs": [],
   "source": [
    "import pandas as pd\n",
    "import numpy as np"
   ]
  },
  {
   "cell_type": "code",
   "execution_count": 2,
   "id": "0e44db24",
   "metadata": {},
   "outputs": [
    {
     "name": "stderr",
     "output_type": "stream",
     "text": [
      "C:\\Users\\SHASHANK K\\AppData\\Local\\Temp\\ipykernel_3244\\121466517.py:1: DtypeWarning: Columns (6) have mixed types. Specify dtype option on import or set low_memory=False.\n",
      "  data = pd.read_csv(r\"C:\\Users\\SHASHANK K\\pythonProject\\Practice Python Programs\\datasets\\raw2.csv\")\n"
     ]
    }
   ],
   "source": [
    "data = pd.read_csv(r\"C:\\Users\\SHASHANK K\\pythonProject\\Practice Python Programs\\datasets\\raw2.csv\")"
   ]
  },
  {
   "cell_type": "markdown",
   "id": "6b969ea5",
   "metadata": {},
   "source": [
    "### Data Cleaning"
   ]
  },
  {
   "cell_type": "code",
   "execution_count": 3,
   "id": "97a37766",
   "metadata": {},
   "outputs": [
    {
     "data": {
      "text/plain": [
       "province_id        int64\n",
       "province_name     object\n",
       "city_id            int64\n",
       "city_name         object\n",
       "district_id        int64\n",
       "district          object\n",
       "npsn              object\n",
       "school_name       object\n",
       "stage             object\n",
       "status            object\n",
       "street_name       object\n",
       "lat              float64\n",
       "long             float64\n",
       "dtype: object"
      ]
     },
     "execution_count": 3,
     "metadata": {},
     "output_type": "execute_result"
    }
   ],
   "source": [
    "data.columns\n",
    "data.dtypes"
   ]
  },
  {
   "cell_type": "code",
   "execution_count": 4,
   "id": "43e4ff09",
   "metadata": {},
   "outputs": [
    {
     "data": {
      "text/html": [
       "<div>\n",
       "<style scoped>\n",
       "    .dataframe tbody tr th:only-of-type {\n",
       "        vertical-align: middle;\n",
       "    }\n",
       "\n",
       "    .dataframe tbody tr th {\n",
       "        vertical-align: top;\n",
       "    }\n",
       "\n",
       "    .dataframe thead th {\n",
       "        text-align: right;\n",
       "    }\n",
       "</style>\n",
       "<table border=\"1\" class=\"dataframe\">\n",
       "  <thead>\n",
       "    <tr style=\"text-align: right;\">\n",
       "      <th></th>\n",
       "      <th>province_id</th>\n",
       "      <th>province_name</th>\n",
       "      <th>city_id</th>\n",
       "      <th>city_name</th>\n",
       "      <th>district_id</th>\n",
       "      <th>district</th>\n",
       "      <th>npsn</th>\n",
       "      <th>school_name</th>\n",
       "      <th>stage</th>\n",
       "      <th>status</th>\n",
       "      <th>street_name</th>\n",
       "      <th>lat</th>\n",
       "      <th>long</th>\n",
       "    </tr>\n",
       "  </thead>\n",
       "  <tbody>\n",
       "    <tr>\n",
       "      <th>0</th>\n",
       "      <td>250000</td>\n",
       "      <td>Papua</td>\n",
       "      <td>251800</td>\n",
       "      <td>Kab. Tolikara</td>\n",
       "      <td>251831</td>\n",
       "      <td>Kec. Gilungbandu</td>\n",
       "      <td>60303704</td>\n",
       "      <td>SMP SATAP KAGI</td>\n",
       "      <td>SMP</td>\n",
       "      <td>N</td>\n",
       "      <td>Gilubandu</td>\n",
       "      <td>-3.415995</td>\n",
       "      <td>138.339704</td>\n",
       "    </tr>\n",
       "    <tr>\n",
       "      <th>1</th>\n",
       "      <td>250000</td>\n",
       "      <td>Papua</td>\n",
       "      <td>251800</td>\n",
       "      <td>Kab. Tolikara</td>\n",
       "      <td>251822</td>\n",
       "      <td>Kec. Wunin</td>\n",
       "      <td>60302267</td>\n",
       "      <td>SD YPPGI WURINERI</td>\n",
       "      <td>SD</td>\n",
       "      <td>S</td>\n",
       "      <td>Wunin</td>\n",
       "      <td>-3.479000</td>\n",
       "      <td>138.680000</td>\n",
       "    </tr>\n",
       "    <tr>\n",
       "      <th>2</th>\n",
       "      <td>250000</td>\n",
       "      <td>Papua</td>\n",
       "      <td>251800</td>\n",
       "      <td>Kab. Tolikara</td>\n",
       "      <td>251803</td>\n",
       "      <td>Kec. Bokondini</td>\n",
       "      <td>60302279</td>\n",
       "      <td>SMAN BOKONDINI</td>\n",
       "      <td>SMA</td>\n",
       "      <td>N</td>\n",
       "      <td>MAIRINI</td>\n",
       "      <td>-3.531731</td>\n",
       "      <td>138.658234</td>\n",
       "    </tr>\n",
       "    <tr>\n",
       "      <th>3</th>\n",
       "      <td>250000</td>\n",
       "      <td>Papua</td>\n",
       "      <td>251800</td>\n",
       "      <td>Kab. Tolikara</td>\n",
       "      <td>251814</td>\n",
       "      <td>Kec. Kuari</td>\n",
       "      <td>60302215</td>\n",
       "      <td>SD INPRES KUARI</td>\n",
       "      <td>SD</td>\n",
       "      <td>N</td>\n",
       "      <td>Kuari</td>\n",
       "      <td>-3.518100</td>\n",
       "      <td>138.529500</td>\n",
       "    </tr>\n",
       "    <tr>\n",
       "      <th>4</th>\n",
       "      <td>250000</td>\n",
       "      <td>Papua</td>\n",
       "      <td>251800</td>\n",
       "      <td>Kab. Tolikara</td>\n",
       "      <td>251802</td>\n",
       "      <td>Kec. Karubaga</td>\n",
       "      <td>60302283</td>\n",
       "      <td>SMAS YPPGI KARUBAGA</td>\n",
       "      <td>SMA</td>\n",
       "      <td>S</td>\n",
       "      <td>AMPERA</td>\n",
       "      <td>-3.449100</td>\n",
       "      <td>138.598800</td>\n",
       "    </tr>\n",
       "    <tr>\n",
       "      <th>...</th>\n",
       "      <td>...</td>\n",
       "      <td>...</td>\n",
       "      <td>...</td>\n",
       "      <td>...</td>\n",
       "      <td>...</td>\n",
       "      <td>...</td>\n",
       "      <td>...</td>\n",
       "      <td>...</td>\n",
       "      <td>...</td>\n",
       "      <td>...</td>\n",
       "      <td>...</td>\n",
       "      <td>...</td>\n",
       "      <td>...</td>\n",
       "    </tr>\n",
       "    <tr>\n",
       "      <th>215367</th>\n",
       "      <td>250000</td>\n",
       "      <td>Papua</td>\n",
       "      <td>251800</td>\n",
       "      <td>Kab. Tolikara</td>\n",
       "      <td>251804</td>\n",
       "      <td>Kec. Kembu</td>\n",
       "      <td>60302213</td>\n",
       "      <td>SD INPRES KEMBU</td>\n",
       "      <td>SD</td>\n",
       "      <td>N</td>\n",
       "      <td>Kembu</td>\n",
       "      <td>-3.532928</td>\n",
       "      <td>138.317558</td>\n",
       "    </tr>\n",
       "    <tr>\n",
       "      <th>215368</th>\n",
       "      <td>250000</td>\n",
       "      <td>Papua</td>\n",
       "      <td>251800</td>\n",
       "      <td>Kab. Tolikara</td>\n",
       "      <td>251838</td>\n",
       "      <td>Kec. Anawi</td>\n",
       "      <td>60302276</td>\n",
       "      <td>SMP NEGERI SATU ATAP ANAWI</td>\n",
       "      <td>SMP</td>\n",
       "      <td>N</td>\n",
       "      <td>Anawi</td>\n",
       "      <td>-3.437391</td>\n",
       "      <td>138.611867</td>\n",
       "    </tr>\n",
       "    <tr>\n",
       "      <th>215369</th>\n",
       "      <td>250000</td>\n",
       "      <td>Papua</td>\n",
       "      <td>251800</td>\n",
       "      <td>Kab. Tolikara</td>\n",
       "      <td>251808</td>\n",
       "      <td>Kec. Numba</td>\n",
       "      <td>60302247</td>\n",
       "      <td>SD NEGERI BAWI</td>\n",
       "      <td>SD</td>\n",
       "      <td>N</td>\n",
       "      <td>Bawi</td>\n",
       "      <td>-3.578400</td>\n",
       "      <td>138.640800</td>\n",
       "    </tr>\n",
       "    <tr>\n",
       "      <th>215370</th>\n",
       "      <td>250000</td>\n",
       "      <td>Papua</td>\n",
       "      <td>251800</td>\n",
       "      <td>Kab. Tolikara</td>\n",
       "      <td>251822</td>\n",
       "      <td>Kec. Wunin</td>\n",
       "      <td>60302212</td>\n",
       "      <td>SD INPRES KAIGA</td>\n",
       "      <td>SD</td>\n",
       "      <td>N</td>\n",
       "      <td>Kaiga</td>\n",
       "      <td>-3.600218</td>\n",
       "      <td>138.672672</td>\n",
       "    </tr>\n",
       "    <tr>\n",
       "      <th>215371</th>\n",
       "      <td>250000</td>\n",
       "      <td>Papua</td>\n",
       "      <td>251800</td>\n",
       "      <td>Kab. Tolikara</td>\n",
       "      <td>251802</td>\n",
       "      <td>Kec. Karubaga</td>\n",
       "      <td>60302250</td>\n",
       "      <td>SD NEGERI BANGGERI</td>\n",
       "      <td>SD</td>\n",
       "      <td>N</td>\n",
       "      <td>Banggeri</td>\n",
       "      <td>-3.492300</td>\n",
       "      <td>138.591400</td>\n",
       "    </tr>\n",
       "  </tbody>\n",
       "</table>\n",
       "<p>215372 rows × 13 columns</p>\n",
       "</div>"
      ],
      "text/plain": [
       "        province_id province_name  city_id      city_name  district_id  \\\n",
       "0            250000         Papua   251800  Kab. Tolikara       251831   \n",
       "1            250000         Papua   251800  Kab. Tolikara       251822   \n",
       "2            250000         Papua   251800  Kab. Tolikara       251803   \n",
       "3            250000         Papua   251800  Kab. Tolikara       251814   \n",
       "4            250000         Papua   251800  Kab. Tolikara       251802   \n",
       "...             ...           ...      ...            ...          ...   \n",
       "215367       250000         Papua   251800  Kab. Tolikara       251804   \n",
       "215368       250000         Papua   251800  Kab. Tolikara       251838   \n",
       "215369       250000         Papua   251800  Kab. Tolikara       251808   \n",
       "215370       250000         Papua   251800  Kab. Tolikara       251822   \n",
       "215371       250000         Papua   251800  Kab. Tolikara       251802   \n",
       "\n",
       "                district      npsn                 school_name stage status  \\\n",
       "0       Kec. Gilungbandu  60303704              SMP SATAP KAGI   SMP      N   \n",
       "1             Kec. Wunin  60302267           SD YPPGI WURINERI    SD      S   \n",
       "2         Kec. Bokondini  60302279              SMAN BOKONDINI   SMA      N   \n",
       "3             Kec. Kuari  60302215             SD INPRES KUARI    SD      N   \n",
       "4          Kec. Karubaga  60302283         SMAS YPPGI KARUBAGA   SMA      S   \n",
       "...                  ...       ...                         ...   ...    ...   \n",
       "215367        Kec. Kembu  60302213             SD INPRES KEMBU    SD      N   \n",
       "215368        Kec. Anawi  60302276  SMP NEGERI SATU ATAP ANAWI   SMP      N   \n",
       "215369        Kec. Numba  60302247              SD NEGERI BAWI    SD      N   \n",
       "215370        Kec. Wunin  60302212             SD INPRES KAIGA    SD      N   \n",
       "215371     Kec. Karubaga  60302250          SD NEGERI BANGGERI    SD      N   \n",
       "\n",
       "       street_name       lat        long  \n",
       "0        Gilubandu -3.415995  138.339704  \n",
       "1            Wunin -3.479000  138.680000  \n",
       "2          MAIRINI -3.531731  138.658234  \n",
       "3            Kuari -3.518100  138.529500  \n",
       "4           AMPERA -3.449100  138.598800  \n",
       "...            ...       ...         ...  \n",
       "215367       Kembu -3.532928  138.317558  \n",
       "215368       Anawi -3.437391  138.611867  \n",
       "215369        Bawi -3.578400  138.640800  \n",
       "215370       Kaiga -3.600218  138.672672  \n",
       "215371    Banggeri -3.492300  138.591400  \n",
       "\n",
       "[215372 rows x 13 columns]"
      ]
     },
     "execution_count": 4,
     "metadata": {},
     "output_type": "execute_result"
    }
   ],
   "source": [
    "data"
   ]
  },
  {
   "cell_type": "code",
   "execution_count": 5,
   "id": "d6fabe4e",
   "metadata": {},
   "outputs": [
    {
     "data": {
      "text/html": [
       "<div>\n",
       "<style scoped>\n",
       "    .dataframe tbody tr th:only-of-type {\n",
       "        vertical-align: middle;\n",
       "    }\n",
       "\n",
       "    .dataframe tbody tr th {\n",
       "        vertical-align: top;\n",
       "    }\n",
       "\n",
       "    .dataframe thead th {\n",
       "        text-align: right;\n",
       "    }\n",
       "</style>\n",
       "<table border=\"1\" class=\"dataframe\">\n",
       "  <thead>\n",
       "    <tr style=\"text-align: right;\">\n",
       "      <th></th>\n",
       "      <th>province_id</th>\n",
       "      <th>province_name</th>\n",
       "      <th>city_id</th>\n",
       "      <th>city_name</th>\n",
       "      <th>district_id</th>\n",
       "      <th>district</th>\n",
       "      <th>school_id</th>\n",
       "      <th>school_name</th>\n",
       "      <th>stage</th>\n",
       "      <th>status</th>\n",
       "      <th>street_name</th>\n",
       "      <th>lat</th>\n",
       "      <th>long</th>\n",
       "    </tr>\n",
       "  </thead>\n",
       "  <tbody>\n",
       "    <tr>\n",
       "      <th>0</th>\n",
       "      <td>250000</td>\n",
       "      <td>Papua</td>\n",
       "      <td>251800</td>\n",
       "      <td>Kab. Tolikara</td>\n",
       "      <td>251831</td>\n",
       "      <td>Kec. Gilungbandu</td>\n",
       "      <td>60303704</td>\n",
       "      <td>SMP SATAP KAGI</td>\n",
       "      <td>SMP</td>\n",
       "      <td>N</td>\n",
       "      <td>Gilubandu</td>\n",
       "      <td>-3.415995</td>\n",
       "      <td>138.339704</td>\n",
       "    </tr>\n",
       "    <tr>\n",
       "      <th>1</th>\n",
       "      <td>250000</td>\n",
       "      <td>Papua</td>\n",
       "      <td>251800</td>\n",
       "      <td>Kab. Tolikara</td>\n",
       "      <td>251822</td>\n",
       "      <td>Kec. Wunin</td>\n",
       "      <td>60302267</td>\n",
       "      <td>SD YPPGI WURINERI</td>\n",
       "      <td>SD</td>\n",
       "      <td>S</td>\n",
       "      <td>Wunin</td>\n",
       "      <td>-3.479000</td>\n",
       "      <td>138.680000</td>\n",
       "    </tr>\n",
       "    <tr>\n",
       "      <th>2</th>\n",
       "      <td>250000</td>\n",
       "      <td>Papua</td>\n",
       "      <td>251800</td>\n",
       "      <td>Kab. Tolikara</td>\n",
       "      <td>251803</td>\n",
       "      <td>Kec. Bokondini</td>\n",
       "      <td>60302279</td>\n",
       "      <td>SMAN BOKONDINI</td>\n",
       "      <td>SMA</td>\n",
       "      <td>N</td>\n",
       "      <td>MAIRINI</td>\n",
       "      <td>-3.531731</td>\n",
       "      <td>138.658234</td>\n",
       "    </tr>\n",
       "    <tr>\n",
       "      <th>3</th>\n",
       "      <td>250000</td>\n",
       "      <td>Papua</td>\n",
       "      <td>251800</td>\n",
       "      <td>Kab. Tolikara</td>\n",
       "      <td>251814</td>\n",
       "      <td>Kec. Kuari</td>\n",
       "      <td>60302215</td>\n",
       "      <td>SD INPRES KUARI</td>\n",
       "      <td>SD</td>\n",
       "      <td>N</td>\n",
       "      <td>Kuari</td>\n",
       "      <td>-3.518100</td>\n",
       "      <td>138.529500</td>\n",
       "    </tr>\n",
       "    <tr>\n",
       "      <th>4</th>\n",
       "      <td>250000</td>\n",
       "      <td>Papua</td>\n",
       "      <td>251800</td>\n",
       "      <td>Kab. Tolikara</td>\n",
       "      <td>251802</td>\n",
       "      <td>Kec. Karubaga</td>\n",
       "      <td>60302283</td>\n",
       "      <td>SMAS YPPGI KARUBAGA</td>\n",
       "      <td>SMA</td>\n",
       "      <td>S</td>\n",
       "      <td>AMPERA</td>\n",
       "      <td>-3.449100</td>\n",
       "      <td>138.598800</td>\n",
       "    </tr>\n",
       "    <tr>\n",
       "      <th>...</th>\n",
       "      <td>...</td>\n",
       "      <td>...</td>\n",
       "      <td>...</td>\n",
       "      <td>...</td>\n",
       "      <td>...</td>\n",
       "      <td>...</td>\n",
       "      <td>...</td>\n",
       "      <td>...</td>\n",
       "      <td>...</td>\n",
       "      <td>...</td>\n",
       "      <td>...</td>\n",
       "      <td>...</td>\n",
       "      <td>...</td>\n",
       "    </tr>\n",
       "    <tr>\n",
       "      <th>215367</th>\n",
       "      <td>250000</td>\n",
       "      <td>Papua</td>\n",
       "      <td>251800</td>\n",
       "      <td>Kab. Tolikara</td>\n",
       "      <td>251804</td>\n",
       "      <td>Kec. Kembu</td>\n",
       "      <td>60302213</td>\n",
       "      <td>SD INPRES KEMBU</td>\n",
       "      <td>SD</td>\n",
       "      <td>N</td>\n",
       "      <td>Kembu</td>\n",
       "      <td>-3.532928</td>\n",
       "      <td>138.317558</td>\n",
       "    </tr>\n",
       "    <tr>\n",
       "      <th>215368</th>\n",
       "      <td>250000</td>\n",
       "      <td>Papua</td>\n",
       "      <td>251800</td>\n",
       "      <td>Kab. Tolikara</td>\n",
       "      <td>251838</td>\n",
       "      <td>Kec. Anawi</td>\n",
       "      <td>60302276</td>\n",
       "      <td>SMP NEGERI SATU ATAP ANAWI</td>\n",
       "      <td>SMP</td>\n",
       "      <td>N</td>\n",
       "      <td>Anawi</td>\n",
       "      <td>-3.437391</td>\n",
       "      <td>138.611867</td>\n",
       "    </tr>\n",
       "    <tr>\n",
       "      <th>215369</th>\n",
       "      <td>250000</td>\n",
       "      <td>Papua</td>\n",
       "      <td>251800</td>\n",
       "      <td>Kab. Tolikara</td>\n",
       "      <td>251808</td>\n",
       "      <td>Kec. Numba</td>\n",
       "      <td>60302247</td>\n",
       "      <td>SD NEGERI BAWI</td>\n",
       "      <td>SD</td>\n",
       "      <td>N</td>\n",
       "      <td>Bawi</td>\n",
       "      <td>-3.578400</td>\n",
       "      <td>138.640800</td>\n",
       "    </tr>\n",
       "    <tr>\n",
       "      <th>215370</th>\n",
       "      <td>250000</td>\n",
       "      <td>Papua</td>\n",
       "      <td>251800</td>\n",
       "      <td>Kab. Tolikara</td>\n",
       "      <td>251822</td>\n",
       "      <td>Kec. Wunin</td>\n",
       "      <td>60302212</td>\n",
       "      <td>SD INPRES KAIGA</td>\n",
       "      <td>SD</td>\n",
       "      <td>N</td>\n",
       "      <td>Kaiga</td>\n",
       "      <td>-3.600218</td>\n",
       "      <td>138.672672</td>\n",
       "    </tr>\n",
       "    <tr>\n",
       "      <th>215371</th>\n",
       "      <td>250000</td>\n",
       "      <td>Papua</td>\n",
       "      <td>251800</td>\n",
       "      <td>Kab. Tolikara</td>\n",
       "      <td>251802</td>\n",
       "      <td>Kec. Karubaga</td>\n",
       "      <td>60302250</td>\n",
       "      <td>SD NEGERI BANGGERI</td>\n",
       "      <td>SD</td>\n",
       "      <td>N</td>\n",
       "      <td>Banggeri</td>\n",
       "      <td>-3.492300</td>\n",
       "      <td>138.591400</td>\n",
       "    </tr>\n",
       "  </tbody>\n",
       "</table>\n",
       "<p>215372 rows × 13 columns</p>\n",
       "</div>"
      ],
      "text/plain": [
       "        province_id province_name  city_id      city_name  district_id  \\\n",
       "0            250000         Papua   251800  Kab. Tolikara       251831   \n",
       "1            250000         Papua   251800  Kab. Tolikara       251822   \n",
       "2            250000         Papua   251800  Kab. Tolikara       251803   \n",
       "3            250000         Papua   251800  Kab. Tolikara       251814   \n",
       "4            250000         Papua   251800  Kab. Tolikara       251802   \n",
       "...             ...           ...      ...            ...          ...   \n",
       "215367       250000         Papua   251800  Kab. Tolikara       251804   \n",
       "215368       250000         Papua   251800  Kab. Tolikara       251838   \n",
       "215369       250000         Papua   251800  Kab. Tolikara       251808   \n",
       "215370       250000         Papua   251800  Kab. Tolikara       251822   \n",
       "215371       250000         Papua   251800  Kab. Tolikara       251802   \n",
       "\n",
       "                district school_id                 school_name stage status  \\\n",
       "0       Kec. Gilungbandu  60303704              SMP SATAP KAGI   SMP      N   \n",
       "1             Kec. Wunin  60302267           SD YPPGI WURINERI    SD      S   \n",
       "2         Kec. Bokondini  60302279              SMAN BOKONDINI   SMA      N   \n",
       "3             Kec. Kuari  60302215             SD INPRES KUARI    SD      N   \n",
       "4          Kec. Karubaga  60302283         SMAS YPPGI KARUBAGA   SMA      S   \n",
       "...                  ...       ...                         ...   ...    ...   \n",
       "215367        Kec. Kembu  60302213             SD INPRES KEMBU    SD      N   \n",
       "215368        Kec. Anawi  60302276  SMP NEGERI SATU ATAP ANAWI   SMP      N   \n",
       "215369        Kec. Numba  60302247              SD NEGERI BAWI    SD      N   \n",
       "215370        Kec. Wunin  60302212             SD INPRES KAIGA    SD      N   \n",
       "215371     Kec. Karubaga  60302250          SD NEGERI BANGGERI    SD      N   \n",
       "\n",
       "       street_name       lat        long  \n",
       "0        Gilubandu -3.415995  138.339704  \n",
       "1            Wunin -3.479000  138.680000  \n",
       "2          MAIRINI -3.531731  138.658234  \n",
       "3            Kuari -3.518100  138.529500  \n",
       "4           AMPERA -3.449100  138.598800  \n",
       "...            ...       ...         ...  \n",
       "215367       Kembu -3.532928  138.317558  \n",
       "215368       Anawi -3.437391  138.611867  \n",
       "215369        Bawi -3.578400  138.640800  \n",
       "215370       Kaiga -3.600218  138.672672  \n",
       "215371    Banggeri -3.492300  138.591400  \n",
       "\n",
       "[215372 rows x 13 columns]"
      ]
     },
     "execution_count": 5,
     "metadata": {},
     "output_type": "execute_result"
    }
   ],
   "source": [
    "df = data.rename(columns= {'npsn':'school_id'})\n",
    "df"
   ]
  },
  {
   "cell_type": "code",
   "execution_count": 6,
   "id": "f04a08aa",
   "metadata": {},
   "outputs": [
    {
     "data": {
      "text/plain": [
       "province_id         0\n",
       "province_name       0\n",
       "city_id             0\n",
       "city_name           0\n",
       "district_id         0\n",
       "district            0\n",
       "school_id           0\n",
       "school_name         0\n",
       "stage               0\n",
       "status              0\n",
       "street_name         2\n",
       "lat              1150\n",
       "long             1150\n",
       "dtype: int64"
      ]
     },
     "execution_count": 6,
     "metadata": {},
     "output_type": "execute_result"
    }
   ],
   "source": [
    "df.isnull().sum()"
   ]
  },
  {
   "cell_type": "code",
   "execution_count": 7,
   "id": "fbe7c62e",
   "metadata": {},
   "outputs": [],
   "source": [
    "df.dropna(inplace=True)"
   ]
  },
  {
   "cell_type": "code",
   "execution_count": 8,
   "id": "681b4c87",
   "metadata": {},
   "outputs": [
    {
     "data": {
      "text/plain": [
       "province_id      0\n",
       "province_name    0\n",
       "city_id          0\n",
       "city_name        0\n",
       "district_id      0\n",
       "district         0\n",
       "school_id        0\n",
       "school_name      0\n",
       "stage            0\n",
       "status           0\n",
       "street_name      0\n",
       "lat              0\n",
       "long             0\n",
       "dtype: int64"
      ]
     },
     "execution_count": 8,
     "metadata": {},
     "output_type": "execute_result"
    }
   ],
   "source": [
    "df.isnull().sum()"
   ]
  },
  {
   "cell_type": "code",
   "execution_count": 9,
   "id": "0be75a97",
   "metadata": {},
   "outputs": [
    {
     "name": "stdout",
     "output_type": "stream",
     "text": [
      "<class 'pandas.core.frame.DataFrame'>\n",
      "Int64Index: 214220 entries, 0 to 215371\n",
      "Data columns (total 13 columns):\n",
      " #   Column         Non-Null Count   Dtype  \n",
      "---  ------         --------------   -----  \n",
      " 0   province_id    214220 non-null  int64  \n",
      " 1   province_name  214220 non-null  object \n",
      " 2   city_id        214220 non-null  int64  \n",
      " 3   city_name      214220 non-null  object \n",
      " 4   district_id    214220 non-null  int64  \n",
      " 5   district       214220 non-null  object \n",
      " 6   school_id      214220 non-null  object \n",
      " 7   school_name    214220 non-null  object \n",
      " 8   stage          214220 non-null  object \n",
      " 9   status         214220 non-null  object \n",
      " 10  street_name    214220 non-null  object \n",
      " 11  lat            214220 non-null  float64\n",
      " 12  long           214220 non-null  float64\n",
      "dtypes: float64(2), int64(3), object(8)\n",
      "memory usage: 22.9+ MB\n"
     ]
    }
   ],
   "source": [
    "df.info()"
   ]
  },
  {
   "cell_type": "code",
   "execution_count": 10,
   "id": "67a5570b",
   "metadata": {},
   "outputs": [],
   "source": [
    "# df['school_id'] = df['school_id'].astype('int64')"
   ]
  },
  {
   "cell_type": "code",
   "execution_count": 11,
   "id": "c9bc93d2",
   "metadata": {},
   "outputs": [
    {
     "name": "stdout",
     "output_type": "stream",
     "text": [
      "<class 'pandas.core.frame.DataFrame'>\n",
      "Int64Index: 214220 entries, 0 to 215371\n",
      "Data columns (total 13 columns):\n",
      " #   Column         Non-Null Count   Dtype  \n",
      "---  ------         --------------   -----  \n",
      " 0   province_id    214220 non-null  int64  \n",
      " 1   province_name  214220 non-null  object \n",
      " 2   city_id        214220 non-null  int64  \n",
      " 3   city_name      214220 non-null  object \n",
      " 4   district_id    214220 non-null  int64  \n",
      " 5   district       214220 non-null  object \n",
      " 6   school_id      214220 non-null  object \n",
      " 7   school_name    214220 non-null  object \n",
      " 8   stage          214220 non-null  object \n",
      " 9   status         214220 non-null  object \n",
      " 10  street_name    214220 non-null  object \n",
      " 11  lat            214220 non-null  float64\n",
      " 12  long           214220 non-null  float64\n",
      "dtypes: float64(2), int64(3), object(8)\n",
      "memory usage: 22.9+ MB\n"
     ]
    }
   ],
   "source": [
    "df.info()"
   ]
  },
  {
   "cell_type": "code",
   "execution_count": 12,
   "id": "d798b2a4",
   "metadata": {},
   "outputs": [
    {
     "data": {
      "text/plain": [
       "(214220, 13)"
      ]
     },
     "execution_count": 12,
     "metadata": {},
     "output_type": "execute_result"
    }
   ],
   "source": [
    "df.shape"
   ]
  },
  {
   "cell_type": "code",
   "execution_count": 13,
   "id": "864060e4",
   "metadata": {},
   "outputs": [
    {
     "data": {
      "text/html": [
       "<div>\n",
       "<style scoped>\n",
       "    .dataframe tbody tr th:only-of-type {\n",
       "        vertical-align: middle;\n",
       "    }\n",
       "\n",
       "    .dataframe tbody tr th {\n",
       "        vertical-align: top;\n",
       "    }\n",
       "\n",
       "    .dataframe thead th {\n",
       "        text-align: right;\n",
       "    }\n",
       "</style>\n",
       "<table border=\"1\" class=\"dataframe\">\n",
       "  <thead>\n",
       "    <tr style=\"text-align: right;\">\n",
       "      <th></th>\n",
       "      <th>province_id</th>\n",
       "      <th>province_name</th>\n",
       "      <th>city_id</th>\n",
       "      <th>city_name</th>\n",
       "      <th>district_id</th>\n",
       "      <th>district</th>\n",
       "      <th>school_id</th>\n",
       "      <th>school_name</th>\n",
       "      <th>stage</th>\n",
       "      <th>status</th>\n",
       "      <th>street_name</th>\n",
       "      <th>lat</th>\n",
       "      <th>long</th>\n",
       "    </tr>\n",
       "  </thead>\n",
       "  <tbody>\n",
       "    <tr>\n",
       "      <th>0</th>\n",
       "      <td>250000</td>\n",
       "      <td>Papua</td>\n",
       "      <td>251800</td>\n",
       "      <td>Kab. Tolikara</td>\n",
       "      <td>251831</td>\n",
       "      <td>Kec. Gilungbandu</td>\n",
       "      <td>60303704</td>\n",
       "      <td>SMP SATAP KAGI</td>\n",
       "      <td>SMP</td>\n",
       "      <td>N</td>\n",
       "      <td>Gilubandu</td>\n",
       "      <td>-3.415995</td>\n",
       "      <td>138.339704</td>\n",
       "    </tr>\n",
       "    <tr>\n",
       "      <th>1</th>\n",
       "      <td>250000</td>\n",
       "      <td>Papua</td>\n",
       "      <td>251800</td>\n",
       "      <td>Kab. Tolikara</td>\n",
       "      <td>251822</td>\n",
       "      <td>Kec. Wunin</td>\n",
       "      <td>60302267</td>\n",
       "      <td>SD YPPGI WURINERI</td>\n",
       "      <td>SD</td>\n",
       "      <td>S</td>\n",
       "      <td>Wunin</td>\n",
       "      <td>-3.479000</td>\n",
       "      <td>138.680000</td>\n",
       "    </tr>\n",
       "    <tr>\n",
       "      <th>2</th>\n",
       "      <td>250000</td>\n",
       "      <td>Papua</td>\n",
       "      <td>251800</td>\n",
       "      <td>Kab. Tolikara</td>\n",
       "      <td>251803</td>\n",
       "      <td>Kec. Bokondini</td>\n",
       "      <td>60302279</td>\n",
       "      <td>SMAN BOKONDINI</td>\n",
       "      <td>SMA</td>\n",
       "      <td>N</td>\n",
       "      <td>MAIRINI</td>\n",
       "      <td>-3.531731</td>\n",
       "      <td>138.658234</td>\n",
       "    </tr>\n",
       "    <tr>\n",
       "      <th>3</th>\n",
       "      <td>250000</td>\n",
       "      <td>Papua</td>\n",
       "      <td>251800</td>\n",
       "      <td>Kab. Tolikara</td>\n",
       "      <td>251814</td>\n",
       "      <td>Kec. Kuari</td>\n",
       "      <td>60302215</td>\n",
       "      <td>SD INPRES KUARI</td>\n",
       "      <td>SD</td>\n",
       "      <td>N</td>\n",
       "      <td>Kuari</td>\n",
       "      <td>-3.518100</td>\n",
       "      <td>138.529500</td>\n",
       "    </tr>\n",
       "    <tr>\n",
       "      <th>4</th>\n",
       "      <td>250000</td>\n",
       "      <td>Papua</td>\n",
       "      <td>251800</td>\n",
       "      <td>Kab. Tolikara</td>\n",
       "      <td>251802</td>\n",
       "      <td>Kec. Karubaga</td>\n",
       "      <td>60302283</td>\n",
       "      <td>SMAS YPPGI KARUBAGA</td>\n",
       "      <td>SMA</td>\n",
       "      <td>S</td>\n",
       "      <td>AMPERA</td>\n",
       "      <td>-3.449100</td>\n",
       "      <td>138.598800</td>\n",
       "    </tr>\n",
       "    <tr>\n",
       "      <th>...</th>\n",
       "      <td>...</td>\n",
       "      <td>...</td>\n",
       "      <td>...</td>\n",
       "      <td>...</td>\n",
       "      <td>...</td>\n",
       "      <td>...</td>\n",
       "      <td>...</td>\n",
       "      <td>...</td>\n",
       "      <td>...</td>\n",
       "      <td>...</td>\n",
       "      <td>...</td>\n",
       "      <td>...</td>\n",
       "      <td>...</td>\n",
       "    </tr>\n",
       "    <tr>\n",
       "      <th>215367</th>\n",
       "      <td>250000</td>\n",
       "      <td>Papua</td>\n",
       "      <td>251800</td>\n",
       "      <td>Kab. Tolikara</td>\n",
       "      <td>251804</td>\n",
       "      <td>Kec. Kembu</td>\n",
       "      <td>60302213</td>\n",
       "      <td>SD INPRES KEMBU</td>\n",
       "      <td>SD</td>\n",
       "      <td>N</td>\n",
       "      <td>Kembu</td>\n",
       "      <td>-3.532928</td>\n",
       "      <td>138.317558</td>\n",
       "    </tr>\n",
       "    <tr>\n",
       "      <th>215368</th>\n",
       "      <td>250000</td>\n",
       "      <td>Papua</td>\n",
       "      <td>251800</td>\n",
       "      <td>Kab. Tolikara</td>\n",
       "      <td>251838</td>\n",
       "      <td>Kec. Anawi</td>\n",
       "      <td>60302276</td>\n",
       "      <td>SMP NEGERI SATU ATAP ANAWI</td>\n",
       "      <td>SMP</td>\n",
       "      <td>N</td>\n",
       "      <td>Anawi</td>\n",
       "      <td>-3.437391</td>\n",
       "      <td>138.611867</td>\n",
       "    </tr>\n",
       "    <tr>\n",
       "      <th>215369</th>\n",
       "      <td>250000</td>\n",
       "      <td>Papua</td>\n",
       "      <td>251800</td>\n",
       "      <td>Kab. Tolikara</td>\n",
       "      <td>251808</td>\n",
       "      <td>Kec. Numba</td>\n",
       "      <td>60302247</td>\n",
       "      <td>SD NEGERI BAWI</td>\n",
       "      <td>SD</td>\n",
       "      <td>N</td>\n",
       "      <td>Bawi</td>\n",
       "      <td>-3.578400</td>\n",
       "      <td>138.640800</td>\n",
       "    </tr>\n",
       "    <tr>\n",
       "      <th>215370</th>\n",
       "      <td>250000</td>\n",
       "      <td>Papua</td>\n",
       "      <td>251800</td>\n",
       "      <td>Kab. Tolikara</td>\n",
       "      <td>251822</td>\n",
       "      <td>Kec. Wunin</td>\n",
       "      <td>60302212</td>\n",
       "      <td>SD INPRES KAIGA</td>\n",
       "      <td>SD</td>\n",
       "      <td>N</td>\n",
       "      <td>Kaiga</td>\n",
       "      <td>-3.600218</td>\n",
       "      <td>138.672672</td>\n",
       "    </tr>\n",
       "    <tr>\n",
       "      <th>215371</th>\n",
       "      <td>250000</td>\n",
       "      <td>Papua</td>\n",
       "      <td>251800</td>\n",
       "      <td>Kab. Tolikara</td>\n",
       "      <td>251802</td>\n",
       "      <td>Kec. Karubaga</td>\n",
       "      <td>60302250</td>\n",
       "      <td>SD NEGERI BANGGERI</td>\n",
       "      <td>SD</td>\n",
       "      <td>N</td>\n",
       "      <td>Banggeri</td>\n",
       "      <td>-3.492300</td>\n",
       "      <td>138.591400</td>\n",
       "    </tr>\n",
       "  </tbody>\n",
       "</table>\n",
       "<p>214220 rows × 13 columns</p>\n",
       "</div>"
      ],
      "text/plain": [
       "        province_id province_name  city_id      city_name  district_id  \\\n",
       "0            250000         Papua   251800  Kab. Tolikara       251831   \n",
       "1            250000         Papua   251800  Kab. Tolikara       251822   \n",
       "2            250000         Papua   251800  Kab. Tolikara       251803   \n",
       "3            250000         Papua   251800  Kab. Tolikara       251814   \n",
       "4            250000         Papua   251800  Kab. Tolikara       251802   \n",
       "...             ...           ...      ...            ...          ...   \n",
       "215367       250000         Papua   251800  Kab. Tolikara       251804   \n",
       "215368       250000         Papua   251800  Kab. Tolikara       251838   \n",
       "215369       250000         Papua   251800  Kab. Tolikara       251808   \n",
       "215370       250000         Papua   251800  Kab. Tolikara       251822   \n",
       "215371       250000         Papua   251800  Kab. Tolikara       251802   \n",
       "\n",
       "                district school_id                 school_name stage status  \\\n",
       "0       Kec. Gilungbandu  60303704              SMP SATAP KAGI   SMP      N   \n",
       "1             Kec. Wunin  60302267           SD YPPGI WURINERI    SD      S   \n",
       "2         Kec. Bokondini  60302279              SMAN BOKONDINI   SMA      N   \n",
       "3             Kec. Kuari  60302215             SD INPRES KUARI    SD      N   \n",
       "4          Kec. Karubaga  60302283         SMAS YPPGI KARUBAGA   SMA      S   \n",
       "...                  ...       ...                         ...   ...    ...   \n",
       "215367        Kec. Kembu  60302213             SD INPRES KEMBU    SD      N   \n",
       "215368        Kec. Anawi  60302276  SMP NEGERI SATU ATAP ANAWI   SMP      N   \n",
       "215369        Kec. Numba  60302247              SD NEGERI BAWI    SD      N   \n",
       "215370        Kec. Wunin  60302212             SD INPRES KAIGA    SD      N   \n",
       "215371     Kec. Karubaga  60302250          SD NEGERI BANGGERI    SD      N   \n",
       "\n",
       "       street_name       lat        long  \n",
       "0        Gilubandu -3.415995  138.339704  \n",
       "1            Wunin -3.479000  138.680000  \n",
       "2          MAIRINI -3.531731  138.658234  \n",
       "3            Kuari -3.518100  138.529500  \n",
       "4           AMPERA -3.449100  138.598800  \n",
       "...            ...       ...         ...  \n",
       "215367       Kembu -3.532928  138.317558  \n",
       "215368       Anawi -3.437391  138.611867  \n",
       "215369        Bawi -3.578400  138.640800  \n",
       "215370       Kaiga -3.600218  138.672672  \n",
       "215371    Banggeri -3.492300  138.591400  \n",
       "\n",
       "[214220 rows x 13 columns]"
      ]
     },
     "execution_count": 13,
     "metadata": {},
     "output_type": "execute_result"
    }
   ],
   "source": [
    "# Clean Data\n",
    "df"
   ]
  },
  {
   "cell_type": "code",
   "execution_count": 14,
   "id": "b8675090",
   "metadata": {},
   "outputs": [
    {
     "data": {
      "text/html": [
       "<div>\n",
       "<style scoped>\n",
       "    .dataframe tbody tr th:only-of-type {\n",
       "        vertical-align: middle;\n",
       "    }\n",
       "\n",
       "    .dataframe tbody tr th {\n",
       "        vertical-align: top;\n",
       "    }\n",
       "\n",
       "    .dataframe thead th {\n",
       "        text-align: right;\n",
       "    }\n",
       "</style>\n",
       "<table border=\"1\" class=\"dataframe\">\n",
       "  <thead>\n",
       "    <tr style=\"text-align: right;\">\n",
       "      <th></th>\n",
       "      <th>province_id</th>\n",
       "      <th>city_id</th>\n",
       "      <th>district_id</th>\n",
       "      <th>lat</th>\n",
       "      <th>long</th>\n",
       "    </tr>\n",
       "  </thead>\n",
       "  <tbody>\n",
       "    <tr>\n",
       "      <th>count</th>\n",
       "      <td>214220.000000</td>\n",
       "      <td>214220.000000</td>\n",
       "      <td>214220.000000</td>\n",
       "      <td>214220.000000</td>\n",
       "      <td>214220.000000</td>\n",
       "    </tr>\n",
       "    <tr>\n",
       "      <th>mean</th>\n",
       "      <td>110599.103725</td>\n",
       "      <td>112377.019886</td>\n",
       "      <td>112387.525871</td>\n",
       "      <td>-4.375868</td>\n",
       "      <td>110.698477</td>\n",
       "    </tr>\n",
       "    <tr>\n",
       "      <th>std</th>\n",
       "      <td>89183.462407</td>\n",
       "      <td>88841.077872</td>\n",
       "      <td>88840.154003</td>\n",
       "      <td>3.799366</td>\n",
       "      <td>32.465824</td>\n",
       "    </tr>\n",
       "    <tr>\n",
       "      <th>min</th>\n",
       "      <td>10000.000000</td>\n",
       "      <td>10100.000000</td>\n",
       "      <td>10101.000000</td>\n",
       "      <td>-10.930976</td>\n",
       "      <td>-333.000000</td>\n",
       "    </tr>\n",
       "    <tr>\n",
       "      <th>25%</th>\n",
       "      <td>30000.000000</td>\n",
       "      <td>32600.000000</td>\n",
       "      <td>32605.000000</td>\n",
       "      <td>-7.317300</td>\n",
       "      <td>106.097025</td>\n",
       "    </tr>\n",
       "    <tr>\n",
       "      <th>50%</th>\n",
       "      <td>70000.000000</td>\n",
       "      <td>76000.000000</td>\n",
       "      <td>76017.000000</td>\n",
       "      <td>-6.188550</td>\n",
       "      <td>110.001600</td>\n",
       "    </tr>\n",
       "    <tr>\n",
       "      <th>75%</th>\n",
       "      <td>180000.000000</td>\n",
       "      <td>181200.000000</td>\n",
       "      <td>181201.000000</td>\n",
       "      <td>-1.496675</td>\n",
       "      <td>115.052075</td>\n",
       "    </tr>\n",
       "    <tr>\n",
       "      <th>max</th>\n",
       "      <td>340000.000000</td>\n",
       "      <td>346000.000000</td>\n",
       "      <td>346004.000000</td>\n",
       "      <td>108.210300</td>\n",
       "      <td>9720.000000</td>\n",
       "    </tr>\n",
       "  </tbody>\n",
       "</table>\n",
       "</div>"
      ],
      "text/plain": [
       "         province_id        city_id    district_id            lat  \\\n",
       "count  214220.000000  214220.000000  214220.000000  214220.000000   \n",
       "mean   110599.103725  112377.019886  112387.525871      -4.375868   \n",
       "std     89183.462407   88841.077872   88840.154003       3.799366   \n",
       "min     10000.000000   10100.000000   10101.000000     -10.930976   \n",
       "25%     30000.000000   32600.000000   32605.000000      -7.317300   \n",
       "50%     70000.000000   76000.000000   76017.000000      -6.188550   \n",
       "75%    180000.000000  181200.000000  181201.000000      -1.496675   \n",
       "max    340000.000000  346000.000000  346004.000000     108.210300   \n",
       "\n",
       "                long  \n",
       "count  214220.000000  \n",
       "mean      110.698477  \n",
       "std        32.465824  \n",
       "min      -333.000000  \n",
       "25%       106.097025  \n",
       "50%       110.001600  \n",
       "75%       115.052075  \n",
       "max      9720.000000  "
      ]
     },
     "execution_count": 14,
     "metadata": {},
     "output_type": "execute_result"
    }
   ],
   "source": [
    "df.describe()"
   ]
  },
  {
   "cell_type": "markdown",
   "id": "dbf02916",
   "metadata": {},
   "source": [
    "### describe()\n",
    "    count - The number of not-empty values.\n",
    "    mean - The average (mean) value.\n",
    "    std - The standard deviation.\n",
    "    min - the minimum value.\n",
    "    25% - The 25% percentile*.\n",
    "    50% - The 50% percentile*.\n",
    "    75% - The 75% percentile*.\n",
    "    max - the maximum value."
   ]
  },
  {
   "cell_type": "code",
   "execution_count": 15,
   "id": "d6a18c70",
   "metadata": {},
   "outputs": [],
   "source": [
    "# Verifying the missing values\n",
    "import seaborn as sns\n",
    "import matplotlib.pyplot as plt\n",
    "%matplotlib inline"
   ]
  },
  {
   "cell_type": "code",
   "execution_count": 16,
   "id": "4e3a2ebc",
   "metadata": {},
   "outputs": [
    {
     "data": {
      "text/plain": [
       "<Axes: >"
      ]
     },
     "execution_count": 16,
     "metadata": {},
     "output_type": "execute_result"
    },
    {
     "data": {
      "image/png": "[encoded data removed]",
      "text/plain": [
       "<Figure size 640x480 with 2 Axes>"
      ]
     },
     "metadata": {},
     "output_type": "display_data"
    }
   ],
   "source": [
    "sns.heatmap(df.isnull(), yticklabels=False, cmap='coolwarm')"
   ]
  },
  {
   "cell_type": "markdown",
   "id": "a9985500",
   "metadata": {},
   "source": [
    "#### Hence No Missing Values"
   ]
  },
  {
   "cell_type": "markdown",
   "id": "54956b81",
   "metadata": {},
   "source": [
    "# Graph Plotting Analysis"
   ]
  },
  {
   "cell_type": "code",
   "execution_count": 17,
   "id": "ac5fa3e5",
   "metadata": {
    "scrolled": false
   },
   "outputs": [
    {
     "data": {
      "image/png": "[encoded data removed]",
      "text/plain": [
       "<Figure size 640x480 with 1 Axes>"
      ]
     },
     "metadata": {},
     "output_type": "display_data"
    }
   ],
   "source": [
    "# Number of School Present in province_name\n",
    "ax = sns.countplot(x = 'province_name',data = df[:4000])\n",
    "for bars in ax.containers:\n",
    "    ax.bar_label(bars)"
   ]
  },
  {
   "cell_type": "code",
   "execution_count": 18,
   "id": "cc371c99",
   "metadata": {},
   "outputs": [
    {
     "data": {
      "image/png": "[encoded data removed]",
      "text/plain": [
       "<Figure size 640x480 with 1 Axes>"
      ]
     },
     "metadata": {},
     "output_type": "display_data"
    }
   ],
   "source": [
    "#  Number of School Present in stage\n",
    "cx = sns.countplot(x = 'stage',data = df[:9000])\n",
    "for bars in cx.containers:\n",
    "    cx.bar_label(bars)"
   ]
  },
  {
   "cell_type": "code",
   "execution_count": 44,
   "id": "60e527a5",
   "metadata": {},
   "outputs": [
    {
     "data": {
      "image/png": "[encoded data removed]",
      "text/plain": [
       "<Figure size 640x480 with 1 Axes>"
      ]
     },
     "metadata": {},
     "output_type": "display_data"
    }
   ],
   "source": [
    "#  Number of School Present in city\n",
    "dx = sns.countplot(x = 'city_name',data = df[:30])\n",
    "for bars in dx.containers:\n",
    "    dx.bar_label(bars)"
   ]
  },
  {
   "cell_type": "code",
   "execution_count": 20,
   "id": "687c7106",
   "metadata": {},
   "outputs": [
    {
     "data": {
      "image/png": "[encoded data removed]",
      "text/plain": [
       "<Figure size 640x480 with 1 Axes>"
      ]
     },
     "metadata": {},
     "output_type": "display_data"
    }
   ],
   "source": [
    "#  Number of School Present in Status\n",
    "ex = sns.countplot(x = 'status',data = df[:5000])\n",
    "for bars in ex.containers:\n",
    "    ex.bar_label(bars)"
   ]
  },
  {
   "cell_type": "markdown",
   "id": "1f727c86",
   "metadata": {},
   "source": [
    "# Machine Learning Process"
   ]
  },
  {
   "cell_type": "code",
   "execution_count": 21,
   "id": "663025e2",
   "metadata": {},
   "outputs": [
    {
     "data": {
      "text/html": [
       "<div>\n",
       "<style scoped>\n",
       "    .dataframe tbody tr th:only-of-type {\n",
       "        vertical-align: middle;\n",
       "    }\n",
       "\n",
       "    .dataframe tbody tr th {\n",
       "        vertical-align: top;\n",
       "    }\n",
       "\n",
       "    .dataframe thead th {\n",
       "        text-align: right;\n",
       "    }\n",
       "</style>\n",
       "<table border=\"1\" class=\"dataframe\">\n",
       "  <thead>\n",
       "    <tr style=\"text-align: right;\">\n",
       "      <th></th>\n",
       "      <th>province_id</th>\n",
       "      <th>province_name</th>\n",
       "      <th>city_id</th>\n",
       "      <th>city_name</th>\n",
       "      <th>district_id</th>\n",
       "      <th>district</th>\n",
       "      <th>school_id</th>\n",
       "      <th>school_name</th>\n",
       "      <th>stage</th>\n",
       "      <th>status</th>\n",
       "      <th>street_name</th>\n",
       "      <th>lat</th>\n",
       "      <th>long</th>\n",
       "    </tr>\n",
       "  </thead>\n",
       "  <tbody>\n",
       "    <tr>\n",
       "      <th>0</th>\n",
       "      <td>250000</td>\n",
       "      <td>Papua</td>\n",
       "      <td>251800</td>\n",
       "      <td>Kab. Tolikara</td>\n",
       "      <td>251831</td>\n",
       "      <td>Kec. Gilungbandu</td>\n",
       "      <td>60303704</td>\n",
       "      <td>SMP SATAP KAGI</td>\n",
       "      <td>SMP</td>\n",
       "      <td>N</td>\n",
       "      <td>Gilubandu</td>\n",
       "      <td>-3.415995</td>\n",
       "      <td>138.339704</td>\n",
       "    </tr>\n",
       "    <tr>\n",
       "      <th>1</th>\n",
       "      <td>250000</td>\n",
       "      <td>Papua</td>\n",
       "      <td>251800</td>\n",
       "      <td>Kab. Tolikara</td>\n",
       "      <td>251822</td>\n",
       "      <td>Kec. Wunin</td>\n",
       "      <td>60302267</td>\n",
       "      <td>SD YPPGI WURINERI</td>\n",
       "      <td>SD</td>\n",
       "      <td>S</td>\n",
       "      <td>Wunin</td>\n",
       "      <td>-3.479000</td>\n",
       "      <td>138.680000</td>\n",
       "    </tr>\n",
       "    <tr>\n",
       "      <th>2</th>\n",
       "      <td>250000</td>\n",
       "      <td>Papua</td>\n",
       "      <td>251800</td>\n",
       "      <td>Kab. Tolikara</td>\n",
       "      <td>251803</td>\n",
       "      <td>Kec. Bokondini</td>\n",
       "      <td>60302279</td>\n",
       "      <td>SMAN BOKONDINI</td>\n",
       "      <td>SMA</td>\n",
       "      <td>N</td>\n",
       "      <td>MAIRINI</td>\n",
       "      <td>-3.531731</td>\n",
       "      <td>138.658234</td>\n",
       "    </tr>\n",
       "    <tr>\n",
       "      <th>3</th>\n",
       "      <td>250000</td>\n",
       "      <td>Papua</td>\n",
       "      <td>251800</td>\n",
       "      <td>Kab. Tolikara</td>\n",
       "      <td>251814</td>\n",
       "      <td>Kec. Kuari</td>\n",
       "      <td>60302215</td>\n",
       "      <td>SD INPRES KUARI</td>\n",
       "      <td>SD</td>\n",
       "      <td>N</td>\n",
       "      <td>Kuari</td>\n",
       "      <td>-3.518100</td>\n",
       "      <td>138.529500</td>\n",
       "    </tr>\n",
       "    <tr>\n",
       "      <th>4</th>\n",
       "      <td>250000</td>\n",
       "      <td>Papua</td>\n",
       "      <td>251800</td>\n",
       "      <td>Kab. Tolikara</td>\n",
       "      <td>251802</td>\n",
       "      <td>Kec. Karubaga</td>\n",
       "      <td>60302283</td>\n",
       "      <td>SMAS YPPGI KARUBAGA</td>\n",
       "      <td>SMA</td>\n",
       "      <td>S</td>\n",
       "      <td>AMPERA</td>\n",
       "      <td>-3.449100</td>\n",
       "      <td>138.598800</td>\n",
       "    </tr>\n",
       "    <tr>\n",
       "      <th>...</th>\n",
       "      <td>...</td>\n",
       "      <td>...</td>\n",
       "      <td>...</td>\n",
       "      <td>...</td>\n",
       "      <td>...</td>\n",
       "      <td>...</td>\n",
       "      <td>...</td>\n",
       "      <td>...</td>\n",
       "      <td>...</td>\n",
       "      <td>...</td>\n",
       "      <td>...</td>\n",
       "      <td>...</td>\n",
       "      <td>...</td>\n",
       "    </tr>\n",
       "    <tr>\n",
       "      <th>215367</th>\n",
       "      <td>250000</td>\n",
       "      <td>Papua</td>\n",
       "      <td>251800</td>\n",
       "      <td>Kab. Tolikara</td>\n",
       "      <td>251804</td>\n",
       "      <td>Kec. Kembu</td>\n",
       "      <td>60302213</td>\n",
       "      <td>SD INPRES KEMBU</td>\n",
       "      <td>SD</td>\n",
       "      <td>N</td>\n",
       "      <td>Kembu</td>\n",
       "      <td>-3.532928</td>\n",
       "      <td>138.317558</td>\n",
       "    </tr>\n",
       "    <tr>\n",
       "      <th>215368</th>\n",
       "      <td>250000</td>\n",
       "      <td>Papua</td>\n",
       "      <td>251800</td>\n",
       "      <td>Kab. Tolikara</td>\n",
       "      <td>251838</td>\n",
       "      <td>Kec. Anawi</td>\n",
       "      <td>60302276</td>\n",
       "      <td>SMP NEGERI SATU ATAP ANAWI</td>\n",
       "      <td>SMP</td>\n",
       "      <td>N</td>\n",
       "      <td>Anawi</td>\n",
       "      <td>-3.437391</td>\n",
       "      <td>138.611867</td>\n",
       "    </tr>\n",
       "    <tr>\n",
       "      <th>215369</th>\n",
       "      <td>250000</td>\n",
       "      <td>Papua</td>\n",
       "      <td>251800</td>\n",
       "      <td>Kab. Tolikara</td>\n",
       "      <td>251808</td>\n",
       "      <td>Kec. Numba</td>\n",
       "      <td>60302247</td>\n",
       "      <td>SD NEGERI BAWI</td>\n",
       "      <td>SD</td>\n",
       "      <td>N</td>\n",
       "      <td>Bawi</td>\n",
       "      <td>-3.578400</td>\n",
       "      <td>138.640800</td>\n",
       "    </tr>\n",
       "    <tr>\n",
       "      <th>215370</th>\n",
       "      <td>250000</td>\n",
       "      <td>Papua</td>\n",
       "      <td>251800</td>\n",
       "      <td>Kab. Tolikara</td>\n",
       "      <td>251822</td>\n",
       "      <td>Kec. Wunin</td>\n",
       "      <td>60302212</td>\n",
       "      <td>SD INPRES KAIGA</td>\n",
       "      <td>SD</td>\n",
       "      <td>N</td>\n",
       "      <td>Kaiga</td>\n",
       "      <td>-3.600218</td>\n",
       "      <td>138.672672</td>\n",
       "    </tr>\n",
       "    <tr>\n",
       "      <th>215371</th>\n",
       "      <td>250000</td>\n",
       "      <td>Papua</td>\n",
       "      <td>251800</td>\n",
       "      <td>Kab. Tolikara</td>\n",
       "      <td>251802</td>\n",
       "      <td>Kec. Karubaga</td>\n",
       "      <td>60302250</td>\n",
       "      <td>SD NEGERI BANGGERI</td>\n",
       "      <td>SD</td>\n",
       "      <td>N</td>\n",
       "      <td>Banggeri</td>\n",
       "      <td>-3.492300</td>\n",
       "      <td>138.591400</td>\n",
       "    </tr>\n",
       "  </tbody>\n",
       "</table>\n",
       "<p>214220 rows × 13 columns</p>\n",
       "</div>"
      ],
      "text/plain": [
       "        province_id province_name  city_id      city_name  district_id  \\\n",
       "0            250000         Papua   251800  Kab. Tolikara       251831   \n",
       "1            250000         Papua   251800  Kab. Tolikara       251822   \n",
       "2            250000         Papua   251800  Kab. Tolikara       251803   \n",
       "3            250000         Papua   251800  Kab. Tolikara       251814   \n",
       "4            250000         Papua   251800  Kab. Tolikara       251802   \n",
       "...             ...           ...      ...            ...          ...   \n",
       "215367       250000         Papua   251800  Kab. Tolikara       251804   \n",
       "215368       250000         Papua   251800  Kab. Tolikara       251838   \n",
       "215369       250000         Papua   251800  Kab. Tolikara       251808   \n",
       "215370       250000         Papua   251800  Kab. Tolikara       251822   \n",
       "215371       250000         Papua   251800  Kab. Tolikara       251802   \n",
       "\n",
       "                district school_id                 school_name stage status  \\\n",
       "0       Kec. Gilungbandu  60303704              SMP SATAP KAGI   SMP      N   \n",
       "1             Kec. Wunin  60302267           SD YPPGI WURINERI    SD      S   \n",
       "2         Kec. Bokondini  60302279              SMAN BOKONDINI   SMA      N   \n",
       "3             Kec. Kuari  60302215             SD INPRES KUARI    SD      N   \n",
       "4          Kec. Karubaga  60302283         SMAS YPPGI KARUBAGA   SMA      S   \n",
       "...                  ...       ...                         ...   ...    ...   \n",
       "215367        Kec. Kembu  60302213             SD INPRES KEMBU    SD      N   \n",
       "215368        Kec. Anawi  60302276  SMP NEGERI SATU ATAP ANAWI   SMP      N   \n",
       "215369        Kec. Numba  60302247              SD NEGERI BAWI    SD      N   \n",
       "215370        Kec. Wunin  60302212             SD INPRES KAIGA    SD      N   \n",
       "215371     Kec. Karubaga  60302250          SD NEGERI BANGGERI    SD      N   \n",
       "\n",
       "       street_name       lat        long  \n",
       "0        Gilubandu -3.415995  138.339704  \n",
       "1            Wunin -3.479000  138.680000  \n",
       "2          MAIRINI -3.531731  138.658234  \n",
       "3            Kuari -3.518100  138.529500  \n",
       "4           AMPERA -3.449100  138.598800  \n",
       "...            ...       ...         ...  \n",
       "215367       Kembu -3.532928  138.317558  \n",
       "215368       Anawi -3.437391  138.611867  \n",
       "215369        Bawi -3.578400  138.640800  \n",
       "215370       Kaiga -3.600218  138.672672  \n",
       "215371    Banggeri -3.492300  138.591400  \n",
       "\n",
       "[214220 rows x 13 columns]"
      ]
     },
     "execution_count": 21,
     "metadata": {},
     "output_type": "execute_result"
    }
   ],
   "source": [
    "df"
   ]
  },
  {
   "cell_type": "code",
   "execution_count": 22,
   "id": "e5ff2100",
   "metadata": {},
   "outputs": [],
   "source": [
    "df.to_csv(r'C:\\Users\\SHASHANK K\\pythonProject\\Practice Python Programs\\datasets\\clean2.csv')"
   ]
  },
  {
   "cell_type": "code",
   "execution_count": 23,
   "id": "61feaf9e",
   "metadata": {},
   "outputs": [],
   "source": [
    "from sklearn.model_selection import train_test_split"
   ]
  },
  {
   "cell_type": "code",
   "execution_count": 24,
   "id": "635d3c36",
   "metadata": {},
   "outputs": [],
   "source": [
    "X = df.loc[:20000, ['province_id', 'city_id', 'district_id', 'school_id']]\n",
    "Y = df.loc[:20000, ['status']]"
   ]
  },
  {
   "cell_type": "code",
   "execution_count": 25,
   "id": "30f7dd74",
   "metadata": {},
   "outputs": [
    {
     "name": "stdout",
     "output_type": "stream",
     "text": [
      "(19877, 4)\n",
      "(19877, 1)\n"
     ]
    }
   ],
   "source": [
    "print(X.shape)\n",
    "print(Y.shape)"
   ]
  },
  {
   "cell_type": "code",
   "execution_count": 26,
   "id": "f119b4ca",
   "metadata": {},
   "outputs": [],
   "source": [
    "x_train, x_test, y_train, y_test = train_test_split(X, Y, test_size=100)"
   ]
  },
  {
   "cell_type": "code",
   "execution_count": 27,
   "id": "a2c0970a",
   "metadata": {},
   "outputs": [
    {
     "name": "stdout",
     "output_type": "stream",
     "text": [
      "(19777, 4)\n",
      "(100, 4)\n",
      "(19777, 1)\n",
      "(100, 1)\n"
     ]
    }
   ],
   "source": [
    "print(x_train.shape)\n",
    "print(x_test.shape)\n",
    "print(y_train.shape)\n",
    "print(y_test.shape)  "
   ]
  },
  {
   "cell_type": "code",
   "execution_count": 28,
   "id": "82032c64",
   "metadata": {},
   "outputs": [],
   "source": [
    "from sklearn import metrics\n",
    "from sklearn.metrics import accuracy_score"
   ]
  },
  {
   "cell_type": "markdown",
   "id": "4095f32b",
   "metadata": {},
   "source": [
    "#### DecisionTree Classifier"
   ]
  },
  {
   "cell_type": "code",
   "execution_count": 34,
   "id": "0c76f356",
   "metadata": {},
   "outputs": [
    {
     "name": "stdout",
     "output_type": "stream",
     "text": [
      "This Model scores: 89.0% accuracy\n"
     ]
    }
   ],
   "source": [
    "from sklearn.tree import DecisionTreeClassifier\n",
    "model = DecisionTreeClassifier()\n",
    "model.fit(x_train, y_train)\n",
    "y_pred = model.predict(x_test)\n",
    "print(f\"This Model scores: {round(accuracy_score(y_test, y_pred)*100, 2)}% accuracy\")"
   ]
  },
  {
   "cell_type": "code",
   "execution_count": 35,
   "id": "5c4b51f0",
   "metadata": {},
   "outputs": [
    {
     "name": "stderr",
     "output_type": "stream",
     "text": [
      "c:\\users\\shashank k\\appdata\\local\\programs\\python\\python38\\lib\\site-packages\\sklearn\\base.py:464: UserWarning: X does not have valid feature names, but DecisionTreeClassifier was fitted with feature names\n",
      "  warnings.warn(\n"
     ]
    },
    {
     "data": {
      "text/plain": [
       "array(['S'], dtype=object)"
      ]
     },
     "execution_count": 35,
     "metadata": {},
     "output_type": "execute_result"
    }
   ],
   "source": [
    "sample = [[250000, 251365, 295214, 62564798]]\n",
    "model.predict(sample)"
   ]
  },
  {
   "cell_type": "markdown",
   "id": "1343ae95",
   "metadata": {},
   "source": [
    "#### Random Forest"
   ]
  },
  {
   "cell_type": "code",
   "execution_count": 36,
   "id": "d5e2741f",
   "metadata": {},
   "outputs": [
    {
     "name": "stderr",
     "output_type": "stream",
     "text": [
      "c:\\users\\shashank k\\appdata\\local\\programs\\python\\python38\\lib\\site-packages\\sklearn\\base.py:1151: DataConversionWarning: A column-vector y was passed when a 1d array was expected. Please change the shape of y to (n_samples,), for example using ravel().\n",
      "  return fit_method(estimator, *args, **kwargs)\n"
     ]
    },
    {
     "name": "stdout",
     "output_type": "stream",
     "text": [
      "This Model scores: 90.0% accuracy\n"
     ]
    }
   ],
   "source": [
    "from sklearn.ensemble import RandomForestClassifier\n",
    "model = RandomForestClassifier(n_estimators = 200)\n",
    "model.fit(x_train, y_train)\n",
    "y_pred = model.predict(x_test)\n",
    "print(f\"This Model scores: {round(accuracy_score(y_test, y_pred)*100, 2)}% accuracy\")"
   ]
  },
  {
   "cell_type": "code",
   "execution_count": 37,
   "id": "f75d394f",
   "metadata": {},
   "outputs": [
    {
     "name": "stderr",
     "output_type": "stream",
     "text": [
      "c:\\users\\shashank k\\appdata\\local\\programs\\python\\python38\\lib\\site-packages\\sklearn\\base.py:464: UserWarning: X does not have valid feature names, but RandomForestClassifier was fitted with feature names\n",
      "  warnings.warn(\n"
     ]
    },
    {
     "data": {
      "text/plain": [
       "array(['S'], dtype=object)"
      ]
     },
     "execution_count": 37,
     "metadata": {},
     "output_type": "execute_result"
    }
   ],
   "source": [
    "sample = [[250000, 251365, 295214, 62564798]]\n",
    "model.predict(sample)"
   ]
  },
  {
   "cell_type": "markdown",
   "id": "a21fc26b",
   "metadata": {},
   "source": [
    "#### SVM"
   ]
  },
  {
   "cell_type": "code",
   "execution_count": 38,
   "id": "da996f8a",
   "metadata": {},
   "outputs": [
    {
     "name": "stderr",
     "output_type": "stream",
     "text": [
      "c:\\users\\shashank k\\appdata\\local\\programs\\python\\python38\\lib\\site-packages\\sklearn\\utils\\validation.py:1184: DataConversionWarning: A column-vector y was passed when a 1d array was expected. Please change the shape of y to (n_samples, ), for example using ravel().\n",
      "  y = column_or_1d(y, warn=True)\n"
     ]
    },
    {
     "name": "stdout",
     "output_type": "stream",
     "text": [
      "This Model scores: 83.0% accuracy\n"
     ]
    }
   ],
   "source": [
    "from sklearn.svm import SVC\n",
    "model = SVC()\n",
    "model.fit(x_train, y_train)\n",
    "y_pred = model.predict(x_test)\n",
    "print(f\"This Model scores: {round(accuracy_score(y_test, y_pred)*100, 2)}% accuracy\")"
   ]
  },
  {
   "cell_type": "code",
   "execution_count": 39,
   "id": "6f156c63",
   "metadata": {},
   "outputs": [
    {
     "name": "stderr",
     "output_type": "stream",
     "text": [
      "c:\\users\\shashank k\\appdata\\local\\programs\\python\\python38\\lib\\site-packages\\sklearn\\base.py:464: UserWarning: X does not have valid feature names, but SVC was fitted with feature names\n",
      "  warnings.warn(\n"
     ]
    },
    {
     "data": {
      "text/plain": [
       "array(['N'], dtype=object)"
      ]
     },
     "execution_count": 39,
     "metadata": {},
     "output_type": "execute_result"
    }
   ],
   "source": [
    "sample = [[250000, 251365, 295214, 62564798]]\n",
    "model.predict(sample)"
   ]
  },
  {
   "cell_type": "markdown",
   "id": "5d93b15d",
   "metadata": {},
   "source": [
    "#### Logistic Regression"
   ]
  },
  {
   "cell_type": "code",
   "execution_count": 40,
   "id": "13081f56",
   "metadata": {},
   "outputs": [
    {
     "name": "stdout",
     "output_type": "stream",
     "text": [
      "This Model scores: 82.0% accuracy\n"
     ]
    },
    {
     "name": "stderr",
     "output_type": "stream",
     "text": [
      "c:\\users\\shashank k\\appdata\\local\\programs\\python\\python38\\lib\\site-packages\\sklearn\\utils\\validation.py:1184: DataConversionWarning: A column-vector y was passed when a 1d array was expected. Please change the shape of y to (n_samples, ), for example using ravel().\n",
      "  y = column_or_1d(y, warn=True)\n"
     ]
    }
   ],
   "source": [
    "from sklearn.linear_model import LogisticRegression\n",
    "model = LogisticRegression()\n",
    "model.fit(x_train, y_train)\n",
    "y_pred = model.predict(x_test)\n",
    "print(f\"This Model scores: {round(accuracy_score(y_test, y_pred)*100, 2)}% accuracy\")"
   ]
  },
  {
   "cell_type": "code",
   "execution_count": 41,
   "id": "77c9fb3c",
   "metadata": {},
   "outputs": [
    {
     "name": "stderr",
     "output_type": "stream",
     "text": [
      "c:\\users\\shashank k\\appdata\\local\\programs\\python\\python38\\lib\\site-packages\\sklearn\\base.py:464: UserWarning: X does not have valid feature names, but LogisticRegression was fitted with feature names\n",
      "  warnings.warn(\n"
     ]
    },
    {
     "data": {
      "text/plain": [
       "array(['N'], dtype=object)"
      ]
     },
     "execution_count": 41,
     "metadata": {},
     "output_type": "execute_result"
    }
   ],
   "source": [
    "sample = [[250000, 251365, 295214, 62564798]]\n",
    "model.predict(sample)"
   ]
  },
  {
   "cell_type": "markdown",
   "id": "8eb72de3",
   "metadata": {},
   "source": [
    "#### K-Neighbors Classifier"
   ]
  },
  {
   "cell_type": "code",
   "execution_count": 42,
   "id": "d116df7e",
   "metadata": {},
   "outputs": [
    {
     "name": "stdout",
     "output_type": "stream",
     "text": [
      "This Model scores: 91.0% accuracy\n"
     ]
    },
    {
     "name": "stderr",
     "output_type": "stream",
     "text": [
      "c:\\users\\shashank k\\appdata\\local\\programs\\python\\python38\\lib\\site-packages\\sklearn\\neighbors\\_classification.py:228: DataConversionWarning: A column-vector y was passed when a 1d array was expected. Please change the shape of y to (n_samples,), for example using ravel().\n",
      "  return self._fit(X, y)\n"
     ]
    }
   ],
   "source": [
    "from sklearn.neighbors import KNeighborsClassifier\n",
    "model = KNeighborsClassifier(n_neighbors=10)\n",
    "model.fit(x_train, y_train)\n",
    "y_pred = model.predict(x_test)\n",
    "print(f\"This Model scores: {round(accuracy_score(y_test, y_pred)*100, 2)}% accuracy\")"
   ]
  },
  {
   "cell_type": "code",
   "execution_count": 43,
   "id": "67a3d138",
   "metadata": {},
   "outputs": [
    {
     "name": "stderr",
     "output_type": "stream",
     "text": [
      "c:\\users\\shashank k\\appdata\\local\\programs\\python\\python38\\lib\\site-packages\\sklearn\\base.py:464: UserWarning: X does not have valid feature names, but KNeighborsClassifier was fitted with feature names\n",
      "  warnings.warn(\n"
     ]
    },
    {
     "data": {
      "text/plain": [
       "array(['N'], dtype=object)"
      ]
     },
     "execution_count": 43,
     "metadata": {},
     "output_type": "execute_result"
    }
   ],
   "source": [
    "sample = [[250000, 251365, 295214, 62564798]]\n",
    "model.predict(sample)"
   ]
  },
  {
   "cell_type": "code",
   "execution_count": null,
   "id": "9a833b0c",
   "metadata": {},
   "outputs": [],
   "source": []
  }
 ],
 "metadata": {
  "kernelspec": {
   "display_name": "Python 3 (ipykernel)",
   "language": "python",
   "name": "python3"
  },
  "language_info": {
   "codemirror_mode": {
    "name": "ipython",
    "version": 3
   },
   "file_extension": ".py",
   "mimetype": "text/x-python",
   "name": "python",
   "nbconvert_exporter": "python",
   "pygments_lexer": "ipython3",
   "version": "3.8.2"
  }
 },
 "nbformat": 4,
 "nbformat_minor": 5
}
